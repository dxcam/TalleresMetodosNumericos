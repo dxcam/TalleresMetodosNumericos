{
 "cells": [
  {
   "cell_type": "markdown",
   "id": "4c0509cb",
   "metadata": {},
   "source": [
    "# TAREA 02 UNIDAD 01-A"
   ]
  },
  {
   "cell_type": "markdown",
   "id": "0b4174be",
   "metadata": {},
   "source": [
    "**Nombre:** Camila Caicedo\n",
    "\n",
    "**Curso:** GR1CC\n",
    "\n",
    "**Fecha de entrega:** 05/11/2025"
   ]
  },
  {
   "cell_type": "markdown",
   "id": "81427dc2",
   "metadata": {},
   "source": [
    "## ERRORES NUMÉRICOS"
   ]
  },
  {
   "cell_type": "markdown",
   "id": "1c15acc1",
   "metadata": {},
   "source": [
    "Resuelva los siguientes ejercicios, tome en cuenta que debe mostrar el desarrollo completo del\n",
    "ejercicio."
   ]
  },
  {
   "cell_type": "markdown",
   "id": "5fb2b065",
   "metadata": {},
   "source": [
    "**1. Calcule los errores absoluto y relativo en las aproximaciones de 𝑝 por 𝑝∗.**"
   ]
  },
  {
   "cell_type": "markdown",
   "id": "90e1143d",
   "metadata": {},
   "source": [
    "$$ error absoluto = |p-p*|$$\n",
    "$$error relativo =\\left|\\frac{p-p*}{p}\\right| $$"
   ]
  },
  {
   "cell_type": "markdown",
   "id": "f4c00574",
   "metadata": {},
   "source": [
    "**a.** 𝑝 = 𝜋, 𝑝∗ = 22/7"
   ]
  },
  {
   "cell_type": "markdown",
   "id": "2c1b9fda",
   "metadata": {},
   "source": [
    "**b.** 𝑝 = 𝜋, 𝑝∗ = 3.1416"
   ]
  },
  {
   "cell_type": "markdown",
   "id": "505f0946",
   "metadata": {},
   "source": [
    "**c.** 𝑝 = ℯ, 𝑝∗ = 2.718"
   ]
  },
  {
   "cell_type": "markdown",
   "id": "f9176851",
   "metadata": {},
   "source": [
    "**d.** 𝑝 = √2, 𝑝∗ = 1.414"
   ]
  },
  {
   "cell_type": "markdown",
   "id": "a7fd1ae0",
   "metadata": {},
   "source": [
    "**2. Calcule los errores absoluto y relativo en las aproximaciones de 𝑝 por 𝑝∗.**"
   ]
  },
  {
   "cell_type": "markdown",
   "id": "30bbf8ec",
   "metadata": {},
   "source": [
    "**a.** 𝑝 = ℯ, = 22000"
   ]
  },
  {
   "cell_type": "markdown",
   "id": "0e03a7cd",
   "metadata": {},
   "source": [
    "**b.** 𝑝 = 10 ,  = 1400"
   ]
  },
  {
   "cell_type": "markdown",
   "id": "59ca714b",
   "metadata": {},
   "source": [
    "**c.** 𝑝 = 8!, 𝑝∗ = 39900"
   ]
  },
  {
   "cell_type": "markdown",
   "id": "90d4fda2",
   "metadata": {},
   "source": [
    "**d.** 𝑝 = 9!, $𝑝∗ =\\sqrt{18𝜋9}$"
   ]
  },
  {
   "cell_type": "markdown",
   "id": "6246a89b",
   "metadata": {},
   "source": [
    "**3. Encuentre el intervalo más largo en el que se debe encontrar 𝑝∗ para aproximarse a 𝑝 con error relativo\n",
    "máximo de $10^{−4}$ para cada valor de 𝑝.**"
   ]
  },
  {
   "cell_type": "markdown",
   "id": "b9906fa9",
   "metadata": {},
   "source": [
    "**a.** 𝜋"
   ]
  },
  {
   "cell_type": "markdown",
   "id": "7364f5dd",
   "metadata": {},
   "source": [
    "**b.** ℯ"
   ]
  },
  {
   "cell_type": "markdown",
   "id": "48574f7c",
   "metadata": {},
   "source": [
    "**c.** $\\sqrt{2}$"
   ]
  },
  {
   "cell_type": "markdown",
   "id": "0cac651d",
   "metadata": {},
   "source": [
    "**d.** √7"
   ]
  },
  {
   "cell_type": "markdown",
   "id": "cc3f7119",
   "metadata": {},
   "source": [
    "**4. Use la aritmética de redondeo de tres dígitos para realizar lo siguiente. Calcule los errores absoluto y relativo con el valor exacto determinado para por lo menos cinco dígitos.**"
   ]
  },
  {
   "cell_type": "markdown",
   "id": "34ff77ef",
   "metadata": {},
   "source": [
    "**5. Los primeros tres términos diferentes a cero de la serie de Maclaurin para la función arcotangente son:\n",
    "𝑥 . Calcule los errores absoluto y relativo en las siguientes aproximaciones de 𝜋 mediante el polinomio en lugar del arcotangente:**\n"
   ]
  },
  {
   "cell_type": "markdown",
   "id": "63e28fcc",
   "metadata": {},
   "source": [
    "**6. El número ℯ se puede definir por medio de ℯ = Σ , donde 𝑛! = 𝑛(𝑛 − 1) ⋅⋅⋅ 2 ⋅ 1 para 𝑛 ≠ 0 y 0! = 1. Calcule los errores absoluto y relativo en la siguiente aproximación de ℯ:**"
   ]
  },
  {
   "cell_type": "markdown",
   "id": "31ab5645",
   "metadata": {},
   "source": [
    "**7. Suponga que dos puntos $(x_{0}, y_{0})$ y $(x_{1}, y_{1})$ se encuentran en línea recta con 𝑦􀬵 ≠ 𝑦􀬴. Existen dos fórmulas para encontrar la intersección 𝑥 de la línea:**"
   ]
  },
  {
   "cell_type": "markdown",
   "id": "9b9ffffa",
   "metadata": {},
   "source": []
  }
 ],
 "metadata": {
  "language_info": {
   "name": "python"
  }
 },
 "nbformat": 4,
 "nbformat_minor": 5
}
